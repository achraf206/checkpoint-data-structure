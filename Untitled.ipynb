{
 "cells": [
  {
   "cell_type": "code",
   "execution_count": null,
   "id": "ac8aa17b-a94d-41d0-8ecd-529c494f873d",
   "metadata": {},
   "outputs": [
    {
     "name": "stdout",
     "output_type": "stream",
     "text": [
      "Bienvenue dans le jeu Devinez le nombre !\n",
      "Je pense à un nombre compris entre 1 et 100. Pouvez-vous deviner ce que c’est ?\n"
     ]
    }
   ],
   "source": [
    "import random\n",
    "\n",
    "def deviner_nombre():\n",
    "    nombre_a_deviner = random.randint(1, 100)\n",
    "    print(\"Bienvenue dans le jeu Devinez le nombre !\")\n",
    "    print(\"Je pense à un nombre compris entre 1 et 100. Pouvez-vous deviner ce que c’est ?\")\n",
    "\n",
    "    tentative = 0\n",
    "    while True:\n",
    "        supposition = input(\"Entrez votre supposition : \")\n",
    "        supposition = int(supposition)\n",
    "\n",
    "        tentative += 1\n",
    "\n",
    "        if supposition < nombre_a_deviner:\n",
    "            print(\"Votre supposition est trop basse. Devinez encore.\")\n",
    "        elif supposition > nombre_a_deviner:\n",
    "            print(\"Votre supposition est trop élevée. Devinez encore.\")\n",
    "        else:\n",
    "            print(f\"Félicitations! Vous avez bien deviné le nombre en {tentative} tentatives !\")\n",
    "            break\n",
    "\n",
    "deviner_nombre()\n"
   ]
  },
  {
   "cell_type": "code",
   "execution_count": null,
   "id": "1db362bd-04ed-49c5-9f51-b5b545881f9a",
   "metadata": {},
   "outputs": [],
   "source": []
  }
 ],
 "metadata": {
  "kernelspec": {
   "display_name": "Python 3 (ipykernel)",
   "language": "python",
   "name": "python3"
  },
  "language_info": {
   "codemirror_mode": {
    "name": "ipython",
    "version": 3
   },
   "file_extension": ".py",
   "mimetype": "text/x-python",
   "name": "python",
   "nbconvert_exporter": "python",
   "pygments_lexer": "ipython3",
   "version": "3.11.7"
  }
 },
 "nbformat": 4,
 "nbformat_minor": 5
}
